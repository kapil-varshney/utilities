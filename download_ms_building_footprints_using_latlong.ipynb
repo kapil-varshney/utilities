{
 "cells": [
  {
   "cell_type": "markdown",
   "id": "fb5c6b12",
   "metadata": {},
   "source": [
    "### Instructions"
   ]
  },
  {
   "cell_type": "markdown",
   "id": "58a91377",
   "metadata": {},
   "source": [
    "1. Lookup the lat-long of the place of interest on Bing maps.\n",
    "2. Find the quadkey of the building footprint tile using the function coords_to_quadkey().\n",
    "3. Download the corresponding building footprint tile in GeoJSON format using the function download_bf().\n",
    "4. Use the 'JSON to Features' tool in ArcGIS Pro to create a feature layer with building footprint polygons."
   ]
  },
  {
   "cell_type": "markdown",
   "id": "454f8b99",
   "metadata": {},
   "source": [
    "### Convert Latitude-Longitude to Microsoft Bing Maps Quadkey\n"
   ]
  },
  {
   "cell_type": "code",
   "execution_count": 1,
   "id": "4f4abbca",
   "metadata": {},
   "outputs": [],
   "source": [
    "# Based on calculations and C# code provided by Microsoft:\n",
    "# https://learn.microsoft.com/en-us/bingmaps/articles/bing-maps-tile-system#tile-coordinates-and-quadkeys\n",
    "\n",
    "import math\n",
    "\n",
    "def coords_to_pixel(latitude: float, longitude: float, detail: int):\n",
    "    \n",
    "    latitude = max(-85.05112878, min(85.05112878, latitude))\n",
    "    longitude = max(-180, min(180, longitude))\n",
    "    sinLatitude = math.sin(latitude * math.pi / 180)\n",
    "    \n",
    "    pixelX = ((longitude + 180) / 360) * 256 * (2 ** detail)\n",
    "    pixelY = (0.5 - math.log((1 + sinLatitude) / (1 - sinLatitude)) / (4 * math.pi)) * 256 * (2 ** detail)\n",
    "    \n",
    "    return int(pixelX), int(pixelY)\n",
    "\n",
    "def pixel_to_tile(pixelX, pixelY):\n",
    "    x = pixelX // 256\n",
    "    y = pixelY // 256\n",
    "    return x, y\n",
    "\n",
    "def tile_to_quadkey(x: int, y: int, zoom: int):\n",
    "    quadkey = ''\n",
    "    for i in range(zoom, 0, -1):\n",
    "        digit = 0\n",
    "        mask = 1 << (i - 1)\n",
    "        if (x & mask) != 0:\n",
    "            digit += 1\n",
    "        if (y & mask) != 0:\n",
    "            digit += 2\n",
    "        quadkey += str(digit)\n",
    "    return quadkey"
   ]
  },
  {
   "cell_type": "code",
   "execution_count": 2,
   "id": "fbc6657f",
   "metadata": {},
   "outputs": [],
   "source": [
    "# Main method to convert lat-longs to MS Quadkeys\n",
    "def coords_to_quadkey(lat: float, long: float):\n",
    "    pixelX, pixelY = coords_to_pixel(lat, long, 9)\n",
    "    x, y = pixel_to_tile(pixelX, pixelY)\n",
    "    quadkey = int(tile_to_quadkey(x, y, 9))\n",
    "    return quadkey"
   ]
  },
  {
   "cell_type": "code",
   "execution_count": 3,
   "id": "f8627b53",
   "metadata": {},
   "outputs": [],
   "source": [
    "lat = 37.574296 \n",
    "long = 36.923531\n",
    "# Quadkey: 122110320"
   ]
  },
  {
   "cell_type": "code",
   "execution_count": 4,
   "id": "e0f3f53c",
   "metadata": {},
   "outputs": [
    {
     "data": {
      "text/plain": [
       "122110320"
      ]
     },
     "execution_count": 4,
     "metadata": {},
     "output_type": "execute_result"
    }
   ],
   "source": [
    "quadkey = coords_to_quadkey(lat, long)\n",
    "quadkey"
   ]
  },
  {
   "cell_type": "markdown",
   "id": "f2f9417e",
   "metadata": {},
   "source": [
    "## Download building footprints"
   ]
  },
  {
   "cell_type": "code",
   "execution_count": 5,
   "id": "1642b148",
   "metadata": {},
   "outputs": [],
   "source": [
    "# Source: https://github.com/microsoft/GlobalMLBuildingFootprints/blob/main/scripts/make-gis-friendly.py\n",
    "\n",
    "import pandas as pd\n",
    "import geopandas as gpd\n",
    "from shapely.geometry import shape\n",
    "# Install shapely=1.8.4 using 'pip install shapely==1.8.4', if you encounter an error with shapely\n",
    "\n",
    "def download_bf(quadkey: int):\n",
    "    dataset_links = pd.read_csv(\"https://minedbuildings.blob.core.windows.net/global-buildings/dataset-links.csv\")\n",
    "    links = dataset_links[dataset_links.QuadKey == quadkey]\n",
    "    for _, row in links.iterrows():\n",
    "        df = pd.read_json(row.Url, lines=True)\n",
    "        df['geometry'] = df['geometry'].apply(shape)\n",
    "        gdf = gpd.GeoDataFrame(df, crs=4326)\n",
    "        gdf.to_file(f\"{row.QuadKey}.geojson\", driver=\"GeoJSON\")"
   ]
  },
  {
   "cell_type": "code",
   "execution_count": 6,
   "id": "d4f16df5",
   "metadata": {},
   "outputs": [],
   "source": [
    "# this is the quadkey of the geography you want to retrieve\n",
    "# quadkey = 122110320"
   ]
  },
  {
   "cell_type": "code",
   "execution_count": 7,
   "id": "2951ec7c",
   "metadata": {},
   "outputs": [],
   "source": [
    "# The file downloads in the location of the notebook\n",
    "download_bf(quadkey)"
   ]
  }
 ],
 "metadata": {
  "kernelspec": {
   "display_name": "Python 3 (ipykernel)",
   "language": "python",
   "name": "python3"
  },
  "language_info": {
   "codemirror_mode": {
    "name": "ipython",
    "version": 3
   },
   "file_extension": ".py",
   "mimetype": "text/x-python",
   "name": "python",
   "nbconvert_exporter": "python",
   "pygments_lexer": "ipython3",
   "version": "3.9.16"
  }
 },
 "nbformat": 4,
 "nbformat_minor": 5
}
